{
 "cells": [
  {
   "cell_type": "code",
   "execution_count": 27,
   "source": [
    "import numpy as np\r\n",
    "import pandas as pd\r\n",
    "import matplotlib.pyplot as plt\r\n",
    "from matplotlib import style\r\n",
    "import seaborn as sns\r\n",
    "\r\n",
    "#model selection\r\n",
    "from sklearn.model_selection import train_test_split\r\n",
    "from sklearn.model_selection import KFold\r\n",
    "from sklearn.metrics import accuracy_score,precision_score,recall_score,confusion_matrix,roc_curve,roc_auc_score\r\n",
    "from sklearn.model_selection import GridSearchCV\r\n",
    "from sklearn.preprocessing import LabelEncoder\r\n",
    "\r\n",
    "#preprocess.\r\n",
    "from keras.preprocessing.image import ImageDataGenerator\r\n",
    "from tqdm import tqdm\r\n",
    "\r\n",
    "#dl libraraies\r\n",
    "from keras import backend as K\r\n",
    "from keras.models import Sequential\r\n",
    "from keras.layers import Dense\r\n",
    "from keras.optimizers import Adam,SGD,Adagrad,Adadelta,RMSprop\r\n",
    "from keras.utils import to_categorical\r\n",
    "\r\n",
    "# specifically for cnn\r\n",
    "from keras.layers import Dropout, Flatten,Activation\r\n",
    "from keras.layers import Conv2D, MaxPooling2D, BatchNormalization\r\n",
    "\r\n",
    "import pathlib\r\n",
    "from six.moves import urllib\r\n",
    "import random as rn\r\n",
    "import os\r\n",
    "import PIL\r\n",
    "import PIL.Image\r\n",
    "import tensorflow as tf\r\n",
    "import tensorflow_datasets as tfds"
   ],
   "outputs": [],
   "metadata": {}
  },
  {
   "cell_type": "code",
   "execution_count": 28,
   "source": [
    "# Helper Function for downloading and extraction tensorflow datasets\r\n",
    "\r\n",
    "\r\n",
    "def download_and_uncompress_tarball(tarball_url, dataset_dir):\r\n",
    "    \"\"\"Downloads the `tarball_url` and uncompresses it locally.\r\n",
    "    Args:\r\n",
    "    tarball_url: The URL of a tarball file.\r\n",
    "    dataset_dir: The directory where the temporary files are stored.\r\n",
    "    \"\"\"\r\n",
    "    filename = tarball_url.split('/')[-1]\r\n",
    "    filepath = os.path.join(dataset_dir, filename)\r\n",
    "\r\n",
    "    def _progress(count, block_size, total_size):\r\n",
    "        sys.stdout.write('\\r>> Downloading %s %.1f%%' % (\r\n",
    "            filename, float(count * block_size) / float(total_size) * 100.0))\r\n",
    "        sys.stdout.flush()\r\n",
    "\r\n",
    "    filepath, _ = urllib.request.urlretrieve(tarball_url, filepath, _progress)\r\n",
    "    print()\r\n",
    "    statinfo = os.stat(filepath)\r\n",
    "    print('Successfully downloaded', filename, statinfo.st_size, 'bytes.')\r\n",
    "    tarfile.open(filepath, 'r:gz').extractall(dataset_dir)"
   ],
   "outputs": [],
   "metadata": {}
  },
  {
   "cell_type": "code",
   "execution_count": 29,
   "source": [
    "DATA_URL = \"http://download.tensorflow.org/example_images/flower_photos.tgz\"\r\n",
    "BASE_DIR = \"C:/Users/anind/My Drive/Code/Personal Projects/Flower-identification-using-Tensorflow\""
   ],
   "outputs": [],
   "metadata": {}
  },
  {
   "cell_type": "code",
   "execution_count": 30,
   "source": [
    "download_and_uncompress_tarball(DATA_URL, BASE_DIR)"
   ],
   "outputs": [
    {
     "output_type": "stream",
     "name": "stdout",
     "text": [
      ">> Downloading flower_photos.tgz 25.8%"
     ]
    }
   ],
   "metadata": {}
  },
  {
   "cell_type": "code",
   "execution_count": null,
   "source": [],
   "outputs": [],
   "metadata": {}
  }
 ],
 "metadata": {
  "orig_nbformat": 4,
  "language_info": {
   "name": "python",
   "version": "3.9.6",
   "mimetype": "text/x-python",
   "codemirror_mode": {
    "name": "ipython",
    "version": 3
   },
   "pygments_lexer": "ipython3",
   "nbconvert_exporter": "python",
   "file_extension": ".py"
  },
  "kernelspec": {
   "name": "python3",
   "display_name": "Python 3.9.6 64-bit ('tensorflow': conda)"
  },
  "interpreter": {
   "hash": "f5dfe59e04c258bd820e8f94eee8d054f2530beff793d4f4e9e4010ee032c01b"
  }
 },
 "nbformat": 4,
 "nbformat_minor": 2
}